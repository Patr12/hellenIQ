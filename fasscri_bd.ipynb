{
 "cells": [
  {
   "cell_type": "code",
   "execution_count": null,
   "metadata": {
    "vscode": {
     "languageId": "plaintext"
    }
   },
   "outputs": [],
   "source": [
    "def fasscri_bd(n , memo={}):\n",
    "   if n in memo:\n",
    "      return memo[n]\n",
    "   if n <= 1:\n",
    "      return n\n",
    "   memo[n] = fasscri_bd(n-1, memo) + (n-2, memo)\n",
    "   return memo[n]\n",
    "   print(fasscri_bd(50))"
   ]
  }
 ],
 "metadata": {
  "language_info": {
   "name": "python"
  }
 },
 "nbformat": 4,
 "nbformat_minor": 2
}
